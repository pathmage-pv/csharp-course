{
 "cells": [
  {
   "cell_type": "markdown",
   "id": "463d054f",
   "metadata": {},
   "source": [
    "1. Declare a variable that can store a floating-point number.\n",
    "2. Write to the console `Is 1.2` if the variable equals `1.2f`, otherwise if the variable equals `3.4f` write to the console `Is 3.4`, otherwise write to the console `Is some other number`."
   ]
  },
  {
   "cell_type": "code",
   "execution_count": null,
   "id": "4ecfad24",
   "metadata": {},
   "outputs": [],
   "source": []
  }
 ],
 "metadata": {
  "language_info": {
   "name": "csharp"
  }
 },
 "nbformat": 4,
 "nbformat_minor": 5
}
