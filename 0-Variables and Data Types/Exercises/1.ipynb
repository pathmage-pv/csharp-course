{
 "cells": [
  {
   "cell_type": "markdown",
   "id": "463d054f",
   "metadata": {},
   "source": [
    "Write to the console, so that the output looks like this:\n",
    "```\n",
    "Hello,\n",
    "World!\n",
    "```"
   ]
  },
  {
   "cell_type": "code",
   "execution_count": null,
   "id": "4ecfad24",
   "metadata": {},
   "outputs": [],
   "source": []
  }
 ],
 "metadata": {
  "language_info": {
   "name": "csharp"
  }
 },
 "nbformat": 4,
 "nbformat_minor": 5
}
