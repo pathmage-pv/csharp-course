{
 "cells": [
  {
   "cell_type": "markdown",
   "id": "463d054f",
   "metadata": {},
   "source": [
    "1. Declare a variable that can store an integer number.\n",
    "2. Write to the console the value of that variable."
   ]
  },
  {
   "cell_type": "code",
   "execution_count": null,
   "id": "4ecfad24",
   "metadata": {},
   "outputs": [],
   "source": []
  }
 ],
 "metadata": {
  "language_info": {
   "name": "csharp"
  }
 },
 "nbformat": 4,
 "nbformat_minor": 5
}
